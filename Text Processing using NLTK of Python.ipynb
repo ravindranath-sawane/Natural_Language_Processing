{
  "nbformat": 4,
  "nbformat_minor": 0,
  "metadata": {
    "colab": {
      "name": "Pr1_NLP.ipynb",
      "provenance": [],
      "collapsed_sections": []
    },
    "kernelspec": {
      "name": "python3",
      "display_name": "Python 3"
    },
    "language_info": {
      "name": "python"
    }
  },
  "cells": [
    {
      "cell_type": "markdown",
      "metadata": {
        "id": "ilkOJ2UUg1vE"
      },
      "source": [
        "# **Aim** : **To perform Text Processing using NLTK of Python.**\n",
        "1. Sentence Tokenization\n",
        "2. Word Tokenization\n",
        "3. Text Lemmatization & Stemming\n",
        "4. Stopwords "
      ]
    },
    {
      "cell_type": "code",
      "metadata": {
        "colab": {
          "base_uri": "https://localhost:8080/"
        },
        "id": "V0SLubYfgzMI",
        "outputId": "c270fe5d-d606-49b4-b0ed-dbebd19416b5"
      },
      "source": [
        "import nltk\n",
        "nltk.download('punkt')\n",
        "nltk.download('averaged_perceptron_tagger')\n",
        "nltk.download('stopwords')"
      ],
      "execution_count": null,
      "outputs": [
        {
          "output_type": "stream",
          "name": "stdout",
          "text": [
            "[nltk_data] Downloading package punkt to /root/nltk_data...\n",
            "[nltk_data]   Unzipping tokenizers/punkt.zip.\n",
            "[nltk_data] Downloading package averaged_perceptron_tagger to\n",
            "[nltk_data]     /root/nltk_data...\n",
            "[nltk_data]   Unzipping taggers/averaged_perceptron_tagger.zip.\n",
            "[nltk_data] Downloading package stopwords to /root/nltk_data...\n",
            "[nltk_data]   Unzipping corpora/stopwords.zip.\n"
          ]
        },
        {
          "output_type": "execute_result",
          "data": {
            "text/plain": [
              "True"
            ]
          },
          "metadata": {},
          "execution_count": 1
        }
      ]
    },
    {
      "cell_type": "markdown",
      "metadata": {
        "id": "Wk4-tx8xp5P0"
      },
      "source": [
        "**1. Sentence Tokenization**"
      ]
    },
    {
      "cell_type": "code",
      "metadata": {
        "colab": {
          "base_uri": "https://localhost:8080/"
        },
        "id": "xXJ9B7fsiIUP",
        "outputId": "f03bbe6a-3f6b-4567-9efb-2f916aea4deb"
      },
      "source": [
        "from nltk.tokenize import sent_tokenize\n",
        "# Sentence tokenization\n",
        "data= \"All work and no play makes jack dull boy. all work no play wakes jack a dull boy. Hellow Class. Hope you are enjoying\"\n",
        "print(sent_tokenize(data))"
      ],
      "execution_count": null,
      "outputs": [
        {
          "output_type": "stream",
          "name": "stdout",
          "text": [
            "['All work and no play makes jack dull boy.', 'all work no play wakes jack a dull boy.', 'Hellow Class.', 'Hope you are enjoying']\n"
          ]
        }
      ]
    },
    {
      "cell_type": "markdown",
      "metadata": {
        "id": "k3PTfmpVp-Dk"
      },
      "source": [
        "**2. Word Tokenization**"
      ]
    },
    {
      "cell_type": "code",
      "metadata": {
        "colab": {
          "base_uri": "https://localhost:8080/"
        },
        "id": "5_SvyP3ilnO3",
        "outputId": "cd3d6a21-3eb1-446d-e917-18851dbfcae7"
      },
      "source": [
        "from nltk.tokenize import word_tokenize\n",
        "# Word Tokenization\n",
        "data=\"All work and no play makes jack a dull boy, alll work and no play\"\n",
        "print(word_tokenize(data))"
      ],
      "execution_count": null,
      "outputs": [
        {
          "output_type": "stream",
          "name": "stdout",
          "text": [
            "['All', 'work', 'and', 'no', 'play', 'makes', 'jack', 'a', 'dull', 'boy', ',', 'alll', 'work', 'and', 'no', 'play']\n"
          ]
        }
      ]
    },
    {
      "cell_type": "code",
      "metadata": {
        "colab": {
          "base_uri": "https://localhost:8080/"
        },
        "id": "wuBkYUaHmZZv",
        "outputId": "1fa3ccd6-fff5-40e4-d2d7-6e375b085beb"
      },
      "source": [
        "from nltk.tokenize import sent_tokenize, word_tokenize\n",
        "\n",
        "data=\"All work and no play makes jack dull boy. all work no play wakes jack a dull boy. Hellow Class. Hope you are enjoying\"\n",
        "\n",
        "phrases= sent_tokenize(data)\n",
        "words= word_tokenize(data)\n",
        "\n",
        "print(phrases)\n",
        "print(words)"
      ],
      "execution_count": null,
      "outputs": [
        {
          "output_type": "stream",
          "name": "stdout",
          "text": [
            "['All work and no play makes jack dull boy.', 'all work no play wakes jack a dull boy.', 'Hellow Class.', 'Hope you are enjoying']\n",
            "['All', 'work', 'and', 'no', 'play', 'makes', 'jack', 'dull', 'boy', '.', 'all', 'work', 'no', 'play', 'wakes', 'jack', 'a', 'dull', 'boy', '.', 'Hellow', 'Class', '.', 'Hope', 'you', 'are', 'enjoying']\n"
          ]
        }
      ]
    },
    {
      "cell_type": "code",
      "metadata": {
        "colab": {
          "base_uri": "https://localhost:8080/"
        },
        "id": "32EbP8G1m_GV",
        "outputId": "1c281b27-fbb0-44f3-e4b9-53c021a520f9"
      },
      "source": [
        "#Stemming\n",
        "from nltk.stem.snowball import SnowballStemmer\n",
        "\n",
        "stemmer= SnowballStemmer(language='english')\n",
        "doc='I prefer not to argue , when i am working constently'\n",
        "for token in doc.split(\" \"):\n",
        "  print(token, \"=>\" , stemmer.stem(token))"
      ],
      "execution_count": null,
      "outputs": [
        {
          "output_type": "stream",
          "name": "stdout",
          "text": [
            "I => i\n",
            "prefer => prefer\n",
            "not => not\n",
            "to => to\n",
            "argue => argu\n",
            ", => ,\n",
            "when => when\n",
            "i => i\n",
            "am => am\n",
            "working => work\n",
            "constently => constent\n"
          ]
        }
      ]
    },
    {
      "cell_type": "markdown",
      "metadata": {
        "id": "9IfO-Ebgpu08"
      },
      "source": [
        "**3. Text Lemmatization & Stemming**"
      ]
    },
    {
      "cell_type": "code",
      "metadata": {
        "colab": {
          "base_uri": "https://localhost:8080/"
        },
        "id": "nxvftcJJoZKo",
        "outputId": "fcd73f2c-c082-49b1-dd89-50cdb8568ca3"
      },
      "source": [
        "#import librarie\n",
        "import spacy\n",
        "#load the language model\n",
        "nlp= spacy.load(\"en_core_web_sm\")\n",
        "\n",
        "#import the libraries\n",
        "from spacy.lemmatizer import Lemmatizer\n",
        "from spacy.lookups import Lookups\n",
        "\n",
        "# lemmatization\n",
        "doc= nlp(u'I love Coding and Writing')\n",
        "for word in doc:\n",
        "  print(word.text, \"=>\", word.lemma_)"
      ],
      "execution_count": null,
      "outputs": [
        {
          "output_type": "stream",
          "name": "stdout",
          "text": [
            "I => -PRON-\n",
            "love => love\n",
            "Coding => Coding\n",
            "and => and\n",
            "Writing => Writing\n"
          ]
        }
      ]
    },
    {
      "cell_type": "markdown",
      "metadata": {
        "id": "A4yuK9TmqDF9"
      },
      "source": [
        "**4. Stopwords**"
      ]
    },
    {
      "cell_type": "code",
      "metadata": {
        "colab": {
          "base_uri": "https://localhost:8080/"
        },
        "id": "LVCDqmV0qE8-",
        "outputId": "0d734839-dff1-4c2f-9888-22f423c259de"
      },
      "source": [
        "#Stopword\n",
        "from nltk.corpus import stopwords\n",
        "sw = stopwords.words(\"english\")\n",
        "print(sw)"
      ],
      "execution_count": null,
      "outputs": [
        {
          "output_type": "stream",
          "name": "stdout",
          "text": [
            "['i', 'me', 'my', 'myself', 'we', 'our', 'ours', 'ourselves', 'you', \"you're\", \"you've\", \"you'll\", \"you'd\", 'your', 'yours', 'yourself', 'yourselves', 'he', 'him', 'his', 'himself', 'she', \"she's\", 'her', 'hers', 'herself', 'it', \"it's\", 'its', 'itself', 'they', 'them', 'their', 'theirs', 'themselves', 'what', 'which', 'who', 'whom', 'this', 'that', \"that'll\", 'these', 'those', 'am', 'is', 'are', 'was', 'were', 'be', 'been', 'being', 'have', 'has', 'had', 'having', 'do', 'does', 'did', 'doing', 'a', 'an', 'the', 'and', 'but', 'if', 'or', 'because', 'as', 'until', 'while', 'of', 'at', 'by', 'for', 'with', 'about', 'against', 'between', 'into', 'through', 'during', 'before', 'after', 'above', 'below', 'to', 'from', 'up', 'down', 'in', 'out', 'on', 'off', 'over', 'under', 'again', 'further', 'then', 'once', 'here', 'there', 'when', 'where', 'why', 'how', 'all', 'any', 'both', 'each', 'few', 'more', 'most', 'other', 'some', 'such', 'no', 'nor', 'not', 'only', 'own', 'same', 'so', 'than', 'too', 'very', 's', 't', 'can', 'will', 'just', 'don', \"don't\", 'should', \"should've\", 'now', 'd', 'll', 'm', 'o', 're', 've', 'y', 'ain', 'aren', \"aren't\", 'couldn', \"couldn't\", 'didn', \"didn't\", 'doesn', \"doesn't\", 'hadn', \"hadn't\", 'hasn', \"hasn't\", 'haven', \"haven't\", 'isn', \"isn't\", 'ma', 'mightn', \"mightn't\", 'mustn', \"mustn't\", 'needn', \"needn't\", 'shan', \"shan't\", 'shouldn', \"shouldn't\", 'wasn', \"wasn't\", 'weren', \"weren't\", 'won', \"won't\", 'wouldn', \"wouldn't\"]\n"
          ]
        }
      ]
    },
    {
      "cell_type": "code",
      "metadata": {
        "colab": {
          "base_uri": "https://localhost:8080/"
        },
        "id": "0fEDkZDpsowx",
        "outputId": "2eb40a11-c22c-4058-e6a2-07dac9d9201b"
      },
      "source": [
        "# Stopwords removal\n",
        "\n",
        "from nltk.corpus import stopwords\n",
        "from nltk.tokenize import word_tokenize\n",
        "\n",
        "text= \"Hello everyone. Welcome to Introduction to Natural Language Processing. We are now learning important cases of NLP. \"\n",
        "\n",
        "stop_words= set(stopwords.words('english'))\n",
        "word_tokens= word_tokenize(text)\n",
        "\n",
        "filtered_sentence = [w for w in word_tokens if not w in stop_words]\n",
        "\n",
        "filtered_sentence=[]\n",
        "\n",
        "for w in word_tokens:\n",
        "  if w not in stop_words:\n",
        "    filtered_sentence.append(w)\n",
        "\n",
        "print(word_tokens)\n",
        "\n",
        "print(\"\\nFiltered Sentence\")\n",
        "print(filtered_sentence)\n",
        "\n",
        "text2 = ' '.join(filtered_sentence)"
      ],
      "execution_count": null,
      "outputs": [
        {
          "output_type": "stream",
          "name": "stdout",
          "text": [
            "['Hello', 'everyone', '.', 'Welcome', 'to', 'Introduction', 'to', 'Natural', 'Language', 'Processing', '.', 'We', 'are', 'now', 'learning', 'important', 'cases', 'of', 'NLP', '.']\n",
            "\n",
            "Filtered Sentence\n",
            "['Hello', 'everyone', '.', 'Welcome', 'Introduction', 'Natural', 'Language', 'Processing', '.', 'We', 'learning', 'important', 'cases', 'NLP', '.']\n"
          ]
        }
      ]
    }
  ]
}